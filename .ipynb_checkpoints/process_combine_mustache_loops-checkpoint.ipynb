{
 "cells": [
  {
   "cell_type": "code",
   "execution_count": 1,
   "id": "a23c9ac6-cf68-4e7a-838c-c0c316d06569",
   "metadata": {},
   "outputs": [],
   "source": [
    "import numpy as np\n",
    "import pandas as pd\n",
    "import subprocess as sp"
   ]
  },
  {
   "cell_type": "markdown",
   "id": "89a5b508-fd17-4ef0-9686-62723361fac8",
   "metadata": {},
   "source": [
    "## Convert Mustache outputs from .tsv to .bedpe files"
   ]
  },
  {
   "cell_type": "code",
   "execution_count": 2,
   "id": "43314ac9-3b0d-4b04-8a3e-d6652e9b93dd",
   "metadata": {},
   "outputs": [],
   "source": [
    "names_list = ['/mnt/md0/jjusuf/absloopquant/AbsLoopQuant_data/mESC_all_merged_loops_Mustache_1kb',\n",
    "              '/mnt/md0/jjusuf/absloopquant/AbsLoopQuant_data/mESC_all_merged_loops_Mustache_2kb',\n",
    "              '/mnt/md0/jjusuf/absloopquant/AbsLoopQuant_data/mESC_all_merged_loops_Mustache_5kb']\n",
    "\n",
    "for name in names_list:\n",
    "    df = pd.read_csv(name+'.tsv', sep='\\t')\n",
    "    df = df.iloc[:,:6]  # keep first 6 columns only\n",
    "    df.to_csv(name+'.bedpe', sep='\\t', header=False, index=False)"
   ]
  },
  {
   "cell_type": "markdown",
   "id": "af624ebb-f43e-4e25-b842-6af1f885e766",
   "metadata": {},
   "source": [
    "## Merge loops called at 1kb, 2kb, and 5kb resolutions"
   ]
  },
  {
   "cell_type": "code",
   "execution_count": 3,
   "id": "115435fc-7cbe-4155-862d-b6e1de46c44f",
   "metadata": {},
   "outputs": [
    {
     "name": "stdout",
     "output_type": "stream",
     "text": [
      "113664 mESC_all_merged_loops_Mustache_1kb.bedpe\n",
      "40243 mESC_all_merged_loops_Mustache_5kb.bedpe\n",
      "24606 mESC_all_merged_loops_Mustache_1kb_5kb_combined/1kband5kb.bedpe\n",
      "89058 mESC_all_merged_loops_Mustache_1kb_5kb_combined/1kbnot5kb.bedpe\n",
      "20070 mESC_all_merged_loops_Mustache_1kb_5kb_combined/5kbnot1kb.bedpe\n",
      "113664 mESC_all_merged_loops_Mustache_1kb.bedpe\n",
      "73034 mESC_all_merged_loops_Mustache_2kb.bedpe\n",
      "52399 mESC_all_merged_loops_Mustache_1kb_2kb_combined/1kband2kb.bedpe\n",
      "61382 mESC_all_merged_loops_Mustache_1kb_2kb_combined/1kbnot2kb.bedpe\n",
      "25227 mESC_all_merged_loops_Mustache_1kb_2kb_combined/2kbnot1kb.bedpe\n",
      "73034 mESC_all_merged_loops_Mustache_2kb.bedpe\n",
      "40243 mESC_all_merged_loops_Mustache_5kb.bedpe\n",
      "25047 mESC_all_merged_loops_Mustache_2kb_5kb_combined/2kband5kb.bedpe\n",
      "47987 mESC_all_merged_loops_Mustache_2kb_5kb_combined/2kbnot5kb.bedpe\n",
      "15961 mESC_all_merged_loops_Mustache_2kb_5kb_combined/5kbnot2kb.bedpe\n"
     ]
    },
    {
     "data": {
      "text/plain": [
       "CompletedProcess(args='cd /mnt/md0/jjusuf/absloopquant/AbsLoopQuant_data; bash /mnt/md0/jjusuf/absloopquant/AbsLoopQuant_analysis_code/merge_1kb_2kb_5kb_loops.sh', returncode=0)"
      ]
     },
     "execution_count": 3,
     "metadata": {},
     "output_type": "execute_result"
    }
   ],
   "source": [
    "# use custom script\n",
    "sp.run('cd /mnt/md0/jjusuf/absloopquant/AbsLoopQuant_data; bash /mnt/md0/jjusuf/absloopquant/AbsLoopQuant_analysis_code/merge_1kb_2kb_5kb_loops.sh', shell=True);\n"
   ]
  },
  {
   "cell_type": "markdown",
   "id": "a3d928ca-c4c8-4c93-857a-4a35749ff07f",
   "metadata": {},
   "source": [
    "# Merge all loops into single file"
   ]
  },
  {
   "cell_type": "code",
   "execution_count": 4,
   "id": "5b87d2f7-5ed3-4afb-a82b-0d7726c51f87",
   "metadata": {},
   "outputs": [],
   "source": [
    "df = pd.DataFrame(columns=np.arange(6))\n",
    "for name in ['1kbonly','2kbonly','5kbonly','1kband2kbonly','2kband5kbonly','1kband5kbonly','1kband2kband5kb']:\n",
    "    curr_df = pd.read_csv('/mnt/md0/jjusuf/absloopquant/AbsLoopQuant_data/mESC_all_merged_loops_Mustache_final/'+name+'.bedpe', sep='\\t', header=None)\n",
    "    df = pd.concat((df, curr_df))\n",
    "df.index = np.arange(len(df))  # re-index\n",
    "df.to_csv('/mnt/md0/jjusuf/absloopquant/AbsLoopQuant_data/mESC_all_merged_loops_Mustache_final/mESC_all_merged_loops_Mustache_final.bedpe', header=False, index=False, sep='\\t')\n"
   ]
  },
  {
   "cell_type": "code",
   "execution_count": null,
   "id": "8c605d25-d67e-4bb4-81ed-245ee63028eb",
   "metadata": {},
   "outputs": [],
   "source": []
  }
 ],
 "metadata": {
  "kernelspec": {
   "display_name": "Python 3 (ipykernel)",
   "language": "python",
   "name": "python3"
  },
  "language_info": {
   "codemirror_mode": {
    "name": "ipython",
    "version": 3
   },
   "file_extension": ".py",
   "mimetype": "text/x-python",
   "name": "python",
   "nbconvert_exporter": "python",
   "pygments_lexer": "ipython3",
   "version": "3.11.5"
  }
 },
 "nbformat": 4,
 "nbformat_minor": 5
}
