{
 "cells": [
  {
   "cell_type": "code",
   "execution_count": 2,
   "id": "5817d0d0",
   "metadata": {},
   "outputs": [],
   "source": [
    "import numpy as np\n",
    "import pandas as pd\n",
    "import matplotlib.pyplot as plt\n",
    "\n",
    "from polychrom.hdf5_format import HDF5Reporter, list_URIs, load_URI, load_hdf5_file, save_hdf5_file\n",
    "\n",
    "import cooler\n",
    "\n",
    "import sys\n",
    "sys.path.insert(1, '/mnt/md0/jjusuf/absloopquant/AbsLoopQuant_analysis_code')\n",
    "import looptools  # all the back end code is here"
   ]
  },
  {
   "cell_type": "code",
   "execution_count": 3,
   "id": "63721875",
   "metadata": {},
   "outputs": [],
   "source": [
    "clr = cooler.Cooler('/mnt/coldstorage/jjusuf/simabsloopquant_data/analysis_data/contacts_3D_polysim_with_loopextr_with_EP_3kBT_all.cool')\n"
   ]
  },
  {
   "cell_type": "code",
   "execution_count": 4,
   "id": "95f78d7d-9609-4f24-b60a-cb773c4b93a9",
   "metadata": {},
   "outputs": [
    {
     "name": "stdout",
     "output_type": "stream",
     "text": [
      "+LE +EP: 1076000 blocks\n"
     ]
    }
   ],
   "source": [
    "files = list_URIs('/mnt/coldstorage/jjusuf/simabsloopquant_data/3D_polysim_data_final/3D_polysim_data_with_loopextr_with_EP_3kBT/')\n",
    "print(f'+LE +EP: {len(files)} blocks')"
   ]
  },
  {
   "cell_type": "code",
   "execution_count": 5,
   "id": "683f306d-fe36-4d38-ad82-e6a4c91c7a2a",
   "metadata": {},
   "outputs": [
    {
     "name": "stdout",
     "output_type": "stream",
     "text": [
      "+LE -EP: 1082000 blocks\n"
     ]
    }
   ],
   "source": [
    "files_no_EP = list_URIs('/mnt/coldstorage/jjusuf/simabsloopquant_data/3D_polysim_data_final/3D_polysim_data_with_loopextr_no_EP/')\n",
    "print(f'+LE -EP: {len(files_no_EP)} blocks')"
   ]
  },
  {
   "cell_type": "code",
   "execution_count": 6,
   "id": "0c3adb68-d662-4d85-8d83-73e55d7ac07e",
   "metadata": {},
   "outputs": [
    {
     "name": "stdout",
     "output_type": "stream",
     "text": [
      "-LE -EP: 1000000 blocks\n"
     ]
    }
   ],
   "source": [
    "files_no_LE_no_EP = list_URIs('/mnt/coldstorage/jjusuf/simabsloopquant_data/3D_polysim_data_final/3D_polysim_data_no_loopextr_no_EP/')\n",
    "print(f'-LE -EP: {len(files_no_LE_no_EP)} blocks')"
   ]
  },
  {
   "cell_type": "markdown",
   "id": "982e3687-0d37-4849-b3c9-eeefb507bc1b",
   "metadata": {},
   "source": [
    "# Get Micro-C scores"
   ]
  },
  {
   "cell_type": "code",
   "execution_count": 7,
   "id": "1abfd3a3",
   "metadata": {},
   "outputs": [],
   "source": [
    "CTCF_loops_to_quantify_monomer_units = np.array([[200,574],\n",
    "[330,574],\n",
    "[200,694],\n",
    "[300,694],\n",
    "[200,866],\n",
    "[330,866],\n",
    "[724,866],\n",
    "[724,1241],\n",
    "[724,1390],\n",
    "[724,1580],\n",
    "[724,1752],\n",
    "[1604,1752],\n",
    "[1604,1800]])\n",
    "\n",
    "EP_loops_to_quantify_monomer_units = np.array([[250,372],\n",
    "[250,540],\n",
    "[372,540],\n",
    "[540,745],\n",
    "[745,775],\n",
    "[745,833],\n",
    "[745,961],\n",
    "[745,1202],\n",
    "[775,833],\n",
    "[775,961],\n",
    "[833,961],\n",
    "[833,1202],\n",
    "[961,1202],\n",
    "[961,1330],\n",
    "[1202,1330],\n",
    "[1640,1722]])\n",
    "\n",
    "sim_loops_df = pd.DataFrame(np.concatenate((CTCF_loops_to_quantify_monomer_units, EP_loops_to_quantify_monomer_units)), columns=['left','right'])\n",
    "sim_loops_df['left'] = 34000000 + sim_loops_df['left']*1000\n",
    "sim_loops_df['right'] = 34000000 + sim_loops_df['right']*1000\n",
    "sim_loops_df['type'] = None\n",
    "sim_loops_df.loc[:len(CTCF_loops_to_quantify_monomer_units),'type'] = 'CTCF'\n",
    "sim_loops_df.loc[len(CTCF_loops_to_quantify_monomer_units):,'type'] = 'EP'\n"
   ]
  },
  {
   "cell_type": "code",
   "execution_count": 8,
   "id": "90dc80fa",
   "metadata": {},
   "outputs": [],
   "source": [
    "sim_P_s_curve = np.loadtxt('/mnt/coldstorage/jjusuf/simabsloopquant_data/analysis_data/P_s_curve_data_3D_polysim_with_loopextr_with_EP_3kBT.txt')\n",
    "lq = looptools.LoopQuantifier(clr, sim_P_s_curve);\n",
    "\n",
    "for i in sim_loops_df.index:\n",
    "    left, right, loop_type = sim_loops_df.loc[i][:3]\n",
    "    size = right-left\n",
    "    local_region_size = int(np.round(np.sqrt(size/1000/(32/25**2)))) * 1000  # in bp\n",
    "    score = lq.quantify_loop('chrS', left, right, local_region_size=local_region_size, quant_region_size=10000)\n",
    "    sim_loops_df.loc[i, 'Micro_C_score'] = score\n"
   ]
  },
  {
   "cell_type": "markdown",
   "id": "88d65891-f672-4fa9-b84f-2d06b7e57c89",
   "metadata": {},
   "source": [
    "# Get ground truth"
   ]
  },
  {
   "cell_type": "code",
   "execution_count": 9,
   "id": "62dae2a9",
   "metadata": {},
   "outputs": [],
   "source": [
    "region_size = 2000\n",
    "num_chroms = 1\n",
    "chrom_size = 70000\n",
    "num_regions = chrom_size // region_size\n",
    "region_starts = np.arange(num_regions) * region_size\n",
    "\n",
    "def in_contact(pos1, pos2, SMC_pos):\n",
    "    if pos1 in SMC_pos and pos2 in SMC_pos:\n",
    "        pos1_ind = np.where(SMC_pos==pos1)[0][0]\n",
    "        pos2_ind = np.where(SMC_pos==pos2)[0][0]\n",
    "        SMC_pos_ext = np.concatenate((SMC_pos, SMC_pos+1, SMC_pos-1), axis=1)\n",
    "        N = SMC_pos_ext.shape[0]\n",
    "        common_matrix = np.zeros((N, N), dtype=bool)\n",
    "        for i in range(N):\n",
    "            for j in range(N):\n",
    "                if np.any(np.isin(SMC_pos_ext[i,:],SMC_pos_ext[j,:])):\n",
    "                    common_matrix[i, j] = True\n",
    "        for k in range(N):\n",
    "            for i in range(N):\n",
    "                for j in range(N):\n",
    "                    common_matrix[i, j] = common_matrix[i, j] or (common_matrix[i, k] and common_matrix[k, j])\n",
    "        return common_matrix[pos1_ind, pos2_ind]\n",
    "    else:\n",
    "        return False\n",
    "\n",
    "def calculate_GT_loop_prob_CTCF(files, pos1, pos2, block_start, block_end, block_step):\n",
    "    #print(f'progress:\\n[{\" \"*num_regions}]')\n",
    "    #print('[', end='')\n",
    "    mean_contacts = np.zeros(num_regions)\n",
    "    for region_num in range(num_regions):\n",
    "        region_start = region_starts[region_num]\n",
    "        region_end = region_start + region_size\n",
    "        blocks_to_sample = range(block_start, block_end, block_step)\n",
    "        contact_arr = np.zeros(len(blocks_to_sample), dtype='int')\n",
    "        for i, block_num in enumerate(blocks_to_sample):\n",
    "            SMC_pos_all = load_URI(files[block_num])['SMCs']\n",
    "            SMC_pos = SMC_pos_all[np.all((np.all(SMC_pos_all>=region_start, 1), np.all(SMC_pos_all<region_end, 1)), 0),:]  # filter for SMCs on chain\n",
    "            SMC_pos = SMC_pos - region_start  # offset SMC positions to be in interval [0, mapN)\n",
    "            if in_contact(pos1, pos2, SMC_pos):\n",
    "                contact_arr[i] = 1\n",
    "        mean_contacts[region_num] = np.mean(contact_arr)\n",
    "        #print(f'=', end='')\n",
    "    #print(']')\n",
    "    return np.mean(mean_contacts)\n",
    "\n",
    "def calculate_contact_freq(files, pos1, pos2, block_start, block_end, block_step, cutoff):\n",
    "    blocks_to_sample = np.arange(block_start, block_end, block_step)\n",
    "    mean_contacts = np.zeros(len(blocks_to_sample))\n",
    "    for i, block_num in enumerate(blocks_to_sample):\n",
    "        monomer_positions = load_URI(files[block_num])['pos']\n",
    "        displacement_vectors = monomer_positions[region_starts+pos1]-monomer_positions[region_starts+pos2]\n",
    "        distances = np.linalg.norm(displacement_vectors, axis=1)\n",
    "        mean_contacts[i] = np.mean(distances < cutoff)\n",
    "    return np.mean(mean_contacts)\n"
   ]
  },
  {
   "cell_type": "code",
   "execution_count": 10,
   "id": "9f744ac0",
   "metadata": {},
   "outputs": [],
   "source": [
    "block_start = 500000\n",
    "block_end = 1000000\n",
    "block_step = 1000"
   ]
  },
  {
   "cell_type": "code",
   "execution_count": 21,
   "id": "05fa4278",
   "metadata": {},
   "outputs": [
    {
     "name": "stdout",
     "output_type": "stream",
     "text": [
      "200-574: 0.06331428571428573\n",
      "330-574: 0.04022857142857143\n",
      "200-694: 0.045942857142857146\n",
      "300-694: 0.0007428571428571429\n",
      "200-866: 0.011542857142857143\n",
      "330-866: 0.007257142857142857\n",
      "724-866: 0.1849142857142857\n",
      "724-1241: 0.010571428571428572\n",
      "724-1390: 0.04125714285714285\n",
      "724-1580: 0.012057142857142858\n",
      "724-1752: 0.005942857142857143\n",
      "1604-1752: 0.07359999999999998\n",
      "1604-1800: 0.0036\n"
     ]
    }
   ],
   "source": [
    "for i in np.where(sim_loops_df['type']=='CTCF')[0]:\n",
    "    pos1 = (sim_loops_df.loc[i, 'left']-34000000)//1000  # convert back to monomer units\n",
    "    pos2 = (sim_loops_df.loc[i, 'right']-34000000)//1000\n",
    "    abs_loop_prob = calculate_GT_loop_prob_CTCF(files, pos1, pos2, block_start, block_end, block_step)\n",
    "    sim_loops_df.loc[i,'abs_loop_prob'] = abs_loop_prob\n",
    "    print(f'{pos1}-{pos2}: {abs_loop_prob}')"
   ]
  },
  {
   "cell_type": "code",
   "execution_count": 16,
   "id": "2381edff-f96c-4bd1-80ea-b4fca9ebac41",
   "metadata": {},
   "outputs": [
    {
     "name": "stdout",
     "output_type": "stream",
     "text": [
      "250-372: 0.02440\n",
      "250-540: 0.01320\n",
      "372-540: 0.02034\n",
      "540-745: 0.01411\n",
      "745-775: 0.11623\n",
      "745-833: 0.05274\n",
      "745-961: 0.01943\n",
      "745-1202: 0.01337\n",
      "775-833: 0.05903\n",
      "775-961: 0.02006\n",
      "833-961: 0.02269\n",
      "833-1202: 0.01520\n",
      "961-1202: 0.01686\n",
      "961-1330: 0.01206\n",
      "1202-1330: 0.02194\n",
      "1640-1722: 0.03543\n"
     ]
    }
   ],
   "source": [
    "cutoff = 3\n",
    "for i in np.where(sim_loops_df['type']=='EP')[0]:\n",
    "    pos1 = (sim_loops_df.loc[i, 'left']-34000000)//1000  # convert back to monomer units\n",
    "    pos2 = (sim_loops_df.loc[i, 'right']-34000000)//1000\n",
    "    contact_freq = calculate_contact_freq(files, pos1, pos2, block_start, block_end, block_step, cutoff)\n",
    "    contact_freq_no_EP = calculate_contact_freq(files_no_EP, pos1, pos2, block_start, block_end, block_step, cutoff)\n",
    "    abs_loop_prob = contact_freq-contact_freq_no_EP\n",
    "    sim_loops_df.loc[i,'abs_loop_prob'] = abs_loop_prob\n",
    "    print(f'{pos1}-{pos2}: {abs_loop_prob:.5f}')"
   ]
  },
  {
   "cell_type": "markdown",
   "id": "24f96fef-4f9b-4e3f-bca8-4437c980e952",
   "metadata": {},
   "source": [
    "# Save data"
   ]
  },
  {
   "cell_type": "code",
   "execution_count": 44,
   "id": "c36b8636-9521-4c56-b72c-e180a45338ba",
   "metadata": {},
   "outputs": [],
   "source": [
    "sim_loops_df.to_csv('/mnt/md0/jjusuf/absloopquant/AbsLoopQuant_data/simulation_calibration_curve.csv')"
   ]
  },
  {
   "cell_type": "markdown",
   "id": "9351d195-ec61-4f2b-b189-dce55d3ad1b0",
   "metadata": {},
   "source": [
    "# Make plot"
   ]
  },
  {
   "cell_type": "code",
   "execution_count": 45,
   "id": "4f3ac558-049f-41d7-a5d2-3576289c0658",
   "metadata": {},
   "outputs": [
    {
     "data": {
      "text/plain": [
       "<matplotlib.collections.PathCollection at 0x7f341eb920c0>"
      ]
     },
     "execution_count": 45,
     "metadata": {},
     "output_type": "execute_result"
    },
    {
     "data": {
      "image/png": "[encoded data removed]",
      "text/plain": [
       "<Figure size 400x400 with 1 Axes>"
      ]
     },
     "metadata": {},
     "output_type": "display_data"
    }
   ],
   "source": [
    "fig, ax = plt.subplots(figsize=(4,4))\n",
    "ax.scatter(sim_loops_df['Micro_C_score'],sim_loops_df['abs_loop_prob'], 1, c=1*(sim_loops_df['type']=='CTCF'), cmap='bwr')"
   ]
  },
  {
   "cell_type": "code",
   "execution_count": null,
   "id": "44404b36-6893-4aa5-a71b-0f8b6013d18e",
   "metadata": {},
   "outputs": [],
   "source": []
  }
 ],
 "metadata": {
  "kernelspec": {
   "display_name": "Python 3 (ipykernel)",
   "language": "python",
   "name": "python3"
  },
  "language_info": {
   "codemirror_mode": {
    "name": "ipython",
    "version": 3
   },
   "file_extension": ".py",
   "mimetype": "text/x-python",
   "name": "python",
   "nbconvert_exporter": "python",
   "pygments_lexer": "ipython3",
   "version": "3.11.5"
  }
 },
 "nbformat": 4,
 "nbformat_minor": 5
}
